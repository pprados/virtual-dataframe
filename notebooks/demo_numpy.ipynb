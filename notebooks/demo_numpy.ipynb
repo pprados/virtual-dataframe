{
 "cells": [
  {
   "cell_type": "code",
   "execution_count": null,
   "id": "7888c991",
   "metadata": {
    "tags": []
   },
   "outputs": [],
   "source": [
    "# RESET THE KERNEL if you change this\n",
    "mode = \"numpy\"  # Use numpy (alias pandas), cupy (alias cudf) or dask_array (alias dask)"
   ]
  },
  {
   "cell_type": "markdown",
   "id": "2fb6838c",
   "metadata": {},
   "source": [
    "# Initialisation"
   ]
  },
  {
   "cell_type": "code",
   "execution_count": null,
   "id": "41550b91",
   "metadata": {
    "tags": []
   },
   "outputs": [],
   "source": [
    "%reload_ext autoreload\n",
    "%autoreload 2\n",
    "import os\n",
    "# Select the mode in `pandas`, `cudf`, `dask` or `dask-cudf`.\n",
    "os.environ[\"VDF_MODE\"] = mode  # RESET THE KERNEL if you change this\n",
    "os.environ[\"DASK_SCHEDULER_SERVICE_HOST\"]=\"localhost\"\n",
    "\n",
    "from virtual_dataframe import VDF_MODE, VClient\n",
    "import virtual_dataframe.numpy as vnp\n",
    "import numpy as np\n",
    "\n",
    "print(f\"Use {VDF_MODE.name.upper()}\")"
   ]
  },
  {
   "cell_type": "markdown",
   "id": "bf2d1da8",
   "metadata": {
    "tags": []
   },
   "source": [
    "# Object Creation"
   ]
  },
  {
   "cell_type": "markdown",
   "id": "04086cb2-306d-4fcc-98d5-32a5d209b96e",
   "metadata": {},
   "source": [
    "Creating a `ndarray` with one dimension"
   ]
  },
  {
   "cell_type": "code",
   "execution_count": null,
   "id": "debbe18d",
   "metadata": {
    "jupyter": {
     "outputs_hidden": false
    }
   },
   "outputs": [],
   "source": [
    "a = vnp.array(range(1,5))  # Single dimension\n",
    "vnp.compute(a)[0]"
   ]
  },
  {
   "cell_type": "markdown",
   "id": "d1358c6d-897b-427d-b98a-580ee1ccd76a",
   "metadata": {},
   "source": [
    "Return a new array of given shape and type, without initializing entries."
   ]
  },
  {
   "cell_type": "code",
   "execution_count": null,
   "id": "5e8da40a-e74c-42d6-8bb2-fcf71ee599df",
   "metadata": {},
   "outputs": [],
   "source": [
    "vnp.compute(\n",
    "    vnp.empty((3, 4))\n",
    ")[0]"
   ]
  },
  {
   "cell_type": "markdown",
   "id": "caadfa5d-ca2e-4df7-965a-5b7bff827291",
   "metadata": {},
   "source": [
    "Return a new array with the same shape and type as a given array."
   ]
  },
  {
   "cell_type": "code",
   "execution_count": null,
   "id": "62860600-da0e-457f-bd76-d1fe0ae8440c",
   "metadata": {},
   "outputs": [],
   "source": [
    "vnp.compute(\n",
    "    vnp.empty_like(a)\n",
    ")[0]"
   ]
  },
  {
   "cell_type": "markdown",
   "id": "d1be9216-55cb-4771-8106-74709a07d541",
   "metadata": {},
   "source": [
    "Return a 2-D array with ones on the diagonal and zeros elsewhere."
   ]
  },
  {
   "cell_type": "code",
   "execution_count": null,
   "id": "d3e15e9f-1656-4257-832f-742c7f4f3991",
   "metadata": {},
   "outputs": [],
   "source": [
    "vnp.compute(\n",
    "    vnp.eye(5)\n",
    ")[0]"
   ]
  },
  {
   "cell_type": "markdown",
   "id": "0ebd85f7-62b2-41d3-bbec-8a0a67e1e935",
   "metadata": {},
   "source": [
    "The identity array is a square array with ones on the main diagonal."
   ]
  },
  {
   "cell_type": "code",
   "execution_count": null,
   "id": "6dca72c3-db9e-46e5-8d7d-86cc951018c1",
   "metadata": {},
   "outputs": [],
   "source": [
    "vnp.compute(\n",
    "    vnp.ones((3, 4))\n",
    "    )[0]"
   ]
  },
  {
   "cell_type": "markdown",
   "id": "ba22f8af-872c-4705-9470-a79c09e93fd2",
   "metadata": {},
   "source": [
    "Return an array of ones with the same shape and type as a given array."
   ]
  },
  {
   "cell_type": "code",
   "execution_count": null,
   "id": "ec5db830-73bc-46f1-a438-e9749d553abe",
   "metadata": {},
   "outputs": [],
   "source": [
    "vnp.compute(\n",
    "    vnp.ones_like(a)\n",
    ")[0]"
   ]
  },
  {
   "cell_type": "markdown",
   "id": "6e025af5-c5f5-4cb9-9aaf-212fecad08d7",
   "metadata": {},
   "source": [
    "Construct an array by repeating A the number of times given by reps."
   ]
  },
  {
   "cell_type": "code",
   "execution_count": null,
   "id": "aa41f923-65ac-4784-a9e0-a05f5e438133",
   "metadata": {},
   "outputs": [],
   "source": [
    "vnp.compute(\n",
    "    vnp.tile([1,2],3)\n",
    ")[0]"
   ]
  },
  {
   "cell_type": "markdown",
   "id": "e9ce45fd-8c7f-471a-a270-9e896eb4bde0",
   "metadata": {},
   "source": [
    "Return a new array of given shape and type, filled with zeros."
   ]
  },
  {
   "cell_type": "code",
   "execution_count": null,
   "id": "d995b438-3003-41b2-bbfe-24002c7064f9",
   "metadata": {},
   "outputs": [],
   "source": [
    "vnp.compute(\n",
    "    vnp.zeros((3, 4))\n",
    ")[0]"
   ]
  },
  {
   "cell_type": "markdown",
   "id": "395bd295-4c63-4e75-bc30-536b055e8546",
   "metadata": {},
   "source": [
    "Return an array of zeros with the same shape and type as a given array."
   ]
  },
  {
   "cell_type": "code",
   "execution_count": null,
   "id": "c96f91af-04ae-4ceb-a31e-e03adb15a261",
   "metadata": {},
   "outputs": [],
   "source": [
    "vnp.compute(\n",
    "    vnp.zeros_like(a)\n",
    ")[0]"
   ]
  },
  {
   "cell_type": "code",
   "execution_count": null,
   "id": "63a07b6e-c724-420e-97f8-94a54e84a85e",
   "metadata": {},
   "outputs": [],
   "source": [
    "b = vnp.array([1,10,100,1000])\n",
    "vnp.compute(b)[0]"
   ]
  },
  {
   "cell_type": "markdown",
   "id": "5ce1e0c6-7387-4ee3-8539-d64fa9072e31",
   "metadata": {},
   "source": [
    "Creating a `ndarray` with multiple dimensions"
   ]
  },
  {
   "cell_type": "code",
   "execution_count": null,
   "id": "c6735a58-e043-486a-ac3c-f031a660b7b2",
   "metadata": {},
   "outputs": [],
   "source": [
    "a2d = vnp.array(\n",
    "    [\n",
    "        ( 0,  1,  2,  3,  4),\n",
    "        ( 5,  6,  7,  8,  9),\n",
    "        (10, 11, 12, 13, 14)\n",
    "    ])\n",
    "vnp.compute(a2d)[0]"
   ]
  },
  {
   "cell_type": "code",
   "execution_count": null,
   "id": "a9ef2017-01f3-4220-a6a0-75fd701b97a6",
   "metadata": {},
   "outputs": [],
   "source": [
    "a3d = vnp.array(\n",
    "    (\n",
    "        ((1,2),(2,3),(4,5)),\n",
    "        ((6,7),(8,9),(10,11)),\n",
    "        ((12,13),(14,15),(16,17)),\n",
    "    ))\n",
    "vnp.compute(a3d)[0]"
   ]
  },
  {
   "cell_type": "markdown",
   "id": "8e283687-3fbd-48a0-8755-2ed270867831",
   "metadata": {},
   "source": [
    "Creating a `ndarray` with a specific type"
   ]
  },
  {
   "cell_type": "code",
   "execution_count": null,
   "id": "4fd980a0-e3eb-498c-a15c-2cbd0a46337e",
   "metadata": {},
   "outputs": [],
   "source": [
    "c = vnp.array([[1, 2], [3, 4]], dtype=complex)\n",
    "vnp.compute(c)[0]"
   ]
  },
  {
   "cell_type": "markdown",
   "id": "3739a894-e9b5-4353-abe0-1cbf4b99f177",
   "metadata": {},
   "source": [
    "Return a new array of given shape and type, filled with fill_value."
   ]
  },
  {
   "cell_type": "code",
   "execution_count": null,
   "id": "eea8c966-b3de-403e-a337-8a07c6a03cc4",
   "metadata": {},
   "outputs": [],
   "source": [
    "vnp.compute(\n",
    "    vnp.full(10, 42)\n",
    ")[0]"
   ]
  },
  {
   "cell_type": "markdown",
   "id": "dafc6f84-0993-4359-9fa7-9921fff25d83",
   "metadata": {},
   "source": [
    "Return a full array with the same shape and type as a given array."
   ]
  },
  {
   "cell_type": "code",
   "execution_count": null,
   "id": "bdd66b12-4800-47da-84b1-b19200ba0728",
   "metadata": {},
   "outputs": [],
   "source": [
    "vnp.compute(\n",
    "    vnp.full_like(a, 42)\n",
    ")[0]"
   ]
  },
  {
   "cell_type": "markdown",
   "id": "5375b49a-950e-4eaa-bf17-ed571605bf88",
   "metadata": {
    "tags": []
   },
   "source": [
    "# Convert"
   ]
  },
  {
   "cell_type": "markdown",
   "id": "b529c3bf-2acc-4fcd-af4e-3652a3a10c45",
   "metadata": {},
   "source": [
    "Convert the input to an array."
   ]
  },
  {
   "cell_type": "code",
   "execution_count": null,
   "id": "2045e61e-297e-4ce4-b5b4-a136d8db1c56",
   "metadata": {},
   "outputs": [],
   "source": [
    "vnp.compute(\n",
    "    vnp.asarray([1,2,3])\n",
    ")[0]"
   ]
  },
  {
   "cell_type": "markdown",
   "id": "cd5c8bc9-10bf-460b-b8a9-2efdee900974",
   "metadata": {},
   "source": [
    "Convert the input to an ndarray, but pass ndarray subclasses through."
   ]
  },
  {
   "cell_type": "code",
   "execution_count": null,
   "id": "2d79cf09-594a-4d80-ad9d-3d6e65f8f0fb",
   "metadata": {},
   "outputs": [],
   "source": [
    "vnp.compute(\n",
    "    vnp.asanyarray(((1,2),[2,3]))\n",
    ")[0]"
   ]
  },
  {
   "cell_type": "markdown",
   "id": "45ebe011-7571-4abd-9b33-cb58261d8c29",
   "metadata": {},
   "source": [
    "Convert virtual numpy to numpy.ndarray"
   ]
  },
  {
   "cell_type": "code",
   "execution_count": null,
   "id": "752fe797-a3cc-44a3-99ff-1dd7c9b16ead",
   "metadata": {},
   "outputs": [],
   "source": [
    "type(vnp.asnumpy(a))"
   ]
  },
  {
   "cell_type": "markdown",
   "id": "a185f3e6-db08-4ea3-b90a-96f94ef7c6ce",
   "metadata": {
    "tags": []
   },
   "source": [
    "# Viewing"
   ]
  },
  {
   "cell_type": "markdown",
   "id": "7d4bdde5",
   "metadata": {},
   "source": [
    "Viewing the top rows of a `ndarray`."
   ]
  },
  {
   "cell_type": "code",
   "execution_count": null,
   "id": "6da29b3a-487e-461d-a1ef-b17dd90ef13f",
   "metadata": {},
   "outputs": [],
   "source": [
    "vnp.compute(\n",
    "    a[:2]\n",
    ")[0]"
   ]
  },
  {
   "cell_type": "code",
   "execution_count": null,
   "id": "b0359507-341f-4cd1-bbb7-2fa247779a53",
   "metadata": {},
   "outputs": [],
   "source": [
    "a.shape, a3d.shape"
   ]
  },
  {
   "cell_type": "code",
   "execution_count": null,
   "id": "98f92f3a-2951-4739-832c-207d278de323",
   "metadata": {},
   "outputs": [],
   "source": [
    "a.ndim, a3d.ndim"
   ]
  },
  {
   "cell_type": "code",
   "execution_count": null,
   "id": "de93f188-a204-453a-a64b-f4082e3404fe",
   "metadata": {},
   "outputs": [],
   "source": [
    "a.dtype  # Type"
   ]
  },
  {
   "cell_type": "code",
   "execution_count": null,
   "id": "b2bbcdca-2f7b-42fe-9755-ff0b6923da21",
   "metadata": {},
   "outputs": [],
   "source": [
    "a.itemsize # Size of memory of each value"
   ]
  },
  {
   "cell_type": "code",
   "execution_count": null,
   "id": "d8345c38-be32-4c90-8bb8-ca60694e8bb0",
   "metadata": {},
   "outputs": [],
   "source": [
    "a.size # Number of items"
   ]
  },
  {
   "cell_type": "code",
   "execution_count": null,
   "id": "82f2133b-884c-47a5-b317-a6dabdbf45e6",
   "metadata": {},
   "outputs": [],
   "source": [
    "type(a)"
   ]
  },
  {
   "cell_type": "markdown",
   "id": "c8eae1f5-74a9-47e5-81ba-15797a7438d4",
   "metadata": {
    "tags": []
   },
   "source": [
    "# Combine"
   ]
  },
  {
   "cell_type": "markdown",
   "id": "750df42d-83bc-43bb-b0ca-533cdc01cce1",
   "metadata": {},
   "source": [
    "Join a sequence of arrays along an existing axis."
   ]
  },
  {
   "cell_type": "code",
   "execution_count": null,
   "id": "ce18175b-5a9b-4b10-8887-3574ce2a9a28",
   "metadata": {},
   "outputs": [],
   "source": [
    "vnp.compute(\n",
    "    vnp.concatenate((a2d,a2d))\n",
    ")[0]"
   ]
  },
  {
   "cell_type": "markdown",
   "id": "6fb94d8e-65d9-4b94-befa-27793c1c304b",
   "metadata": {},
   "source": [
    "Join a sequence of arrays along a new axis."
   ]
  },
  {
   "cell_type": "code",
   "execution_count": null,
   "id": "124492b2-71c4-4f5d-a4e6-80a68986873b",
   "metadata": {},
   "outputs": [],
   "source": [
    "vnp.compute(\n",
    "    vnp.stack((a2d,a2d),axis=1)\n",
    ")[0]"
   ]
  },
  {
   "cell_type": "markdown",
   "id": "86c28c09-a049-4369-894e-21b0ba8c5a6f",
   "metadata": {},
   "source": [
    "Stack arrays in sequence vertically (row wise)."
   ]
  },
  {
   "cell_type": "code",
   "execution_count": null,
   "id": "c0fc29d3-820e-4479-8e12-76f1ac4ae36d",
   "metadata": {},
   "outputs": [],
   "source": [
    "vnp.compute(\n",
    "    vnp.vstack([a2d, a2d])\n",
    ")[0]"
   ]
  },
  {
   "cell_type": "markdown",
   "id": "9f678bdf-6db7-4fa9-8dd8-9c88101d2b79",
   "metadata": {},
   "source": [
    "Stack arrays in sequence horizontally (column wise)."
   ]
  },
  {
   "cell_type": "code",
   "execution_count": null,
   "id": "54d6e138-181e-4d4f-a2f4-c56be32488a4",
   "metadata": {},
   "outputs": [],
   "source": [
    "vnp.compute(\n",
    "    vnp.hstack([a2d, a2d])\n",
    ")[0]"
   ]
  },
  {
   "cell_type": "markdown",
   "id": "2566efc0-dd4e-43b7-aaa8-c46fc1ad067a",
   "metadata": {},
   "source": [
    "Stack arrays in sequence depth wise (along third axis)."
   ]
  },
  {
   "cell_type": "code",
   "execution_count": null,
   "id": "20387c28-5141-431d-ad42-9da813ada709",
   "metadata": {},
   "outputs": [],
   "source": [
    "vnp.compute(\n",
    "    vnp.dstack([a,b])\n",
    ")[0]"
   ]
  },
  {
   "cell_type": "markdown",
   "id": "48ada58d-e685-47fa-9af6-0a0bae9714c8",
   "metadata": {
    "tags": []
   },
   "source": [
    "# Update"
   ]
  },
  {
   "cell_type": "markdown",
   "id": "bdb27578-bab8-4416-944d-c2b04e9a8121",
   "metadata": {},
   "source": [
    "Repeat elements of an array."
   ]
  },
  {
   "cell_type": "code",
   "execution_count": null,
   "id": "2d5c6c55-595c-407f-9824-bc13b32ea982",
   "metadata": {},
   "outputs": [],
   "source": [
    "vnp.compute(\n",
    "    vnp.repeat(a,2)\n",
    ")[0]"
   ]
  },
  {
   "cell_type": "markdown",
   "id": "3d77b2e3-ee92-46df-b710-d31513b62f83",
   "metadata": {},
   "source": [
    "Append values to the end of an array."
   ]
  },
  {
   "cell_type": "code",
   "execution_count": null,
   "id": "68b1aa89-f0f2-464b-8fb1-a7f21b7b778a",
   "metadata": {},
   "outputs": [],
   "source": [
    "vnp.compute(\n",
    "    vnp.append(a,[99,100])\n",
    ")[0]"
   ]
  },
  {
   "cell_type": "markdown",
   "id": "73db8085-fc01-4fc1-bfd7-37e7a4da051d",
   "metadata": {
    "tags": []
   },
   "source": [
    "# Compare"
   ]
  },
  {
   "cell_type": "markdown",
   "id": "65084959-be86-44a2-9b94-e4a198f183dd",
   "metadata": {},
   "source": [
    "Find the unique elements of an array."
   ]
  },
  {
   "cell_type": "code",
   "execution_count": null,
   "id": "555ccb8c-3d42-46d6-b190-3356f564b775",
   "metadata": {},
   "outputs": [],
   "source": [
    "vnp.compute(\n",
    "    vnp.unique(a)\n",
    ")[0]"
   ]
  },
  {
   "cell_type": "markdown",
   "id": "6faf2d2a-9658-4ac8-a739-13215784cc58",
   "metadata": {},
   "source": [
    "Calculates element in test_elements, broadcasting over element only. Returns a boolean array of the same shape as element that is True where an element of element is in test_elements and False otherwise."
   ]
  },
  {
   "cell_type": "code",
   "execution_count": null,
   "id": "6b80f81f-0ed1-49fe-b5dd-6b2e2fc01086",
   "metadata": {},
   "outputs": [],
   "source": [
    "vnp.compute(\n",
    "    vnp.isin(a,b)\n",
    ")[0]"
   ]
  },
  {
   "cell_type": "markdown",
   "id": "fd9ae3ac-6672-4391-8b7c-b4ae5ac519f6",
   "metadata": {},
   "source": [
    "Find the union of two arrays."
   ]
  },
  {
   "cell_type": "code",
   "execution_count": null,
   "id": "54db881f-f6a6-4e51-9864-0ec192f9239c",
   "metadata": {},
   "outputs": [],
   "source": [
    "vnp.compute(\n",
    "    vnp.union1d(a,b)\n",
    ")[0]"
   ]
  },
  {
   "cell_type": "markdown",
   "id": "3b37099c-6b6e-4b87-b66a-e66097f0fde1",
   "metadata": {},
   "source": [
    "Test whether all array elements along a given axis evaluate to True."
   ]
  },
  {
   "cell_type": "code",
   "execution_count": null,
   "id": "abf3028e-44a9-4a65-9b4c-dc4b663c2956",
   "metadata": {},
   "outputs": [],
   "source": [
    "vnp.compute(\n",
    "    vnp.all(a)\n",
    ")[0]"
   ]
  },
  {
   "cell_type": "markdown",
   "id": "62cfba74-1dcd-4b20-b15f-a3d2f9dd7a19",
   "metadata": {},
   "source": [
    "Test whether any array element along a given axis evaluates to True."
   ]
  },
  {
   "cell_type": "code",
   "execution_count": null,
   "id": "2ca18ae1-df78-45bf-a9c5-b2a4a23d4e4d",
   "metadata": {},
   "outputs": [],
   "source": [
    "vnp.compute(\n",
    "    vnp.any(a)\n",
    ")[0]"
   ]
  },
  {
   "cell_type": "markdown",
   "id": "5e4341ab-a125-4176-bf82-b377f572a735",
   "metadata": {},
   "source": [
    "Test element-wise for finiteness (not infinity and not Not a Number)."
   ]
  },
  {
   "cell_type": "code",
   "execution_count": null,
   "id": "919da8ec-0559-4919-9894-c796555964f1",
   "metadata": {
    "tags": []
   },
   "outputs": [],
   "source": [
    "vnp.compute(\n",
    "    vnp.isfinite(a)\n",
    ")[0]"
   ]
  },
  {
   "cell_type": "markdown",
   "id": "65df4f00-5853-460b-821d-9168516b93f6",
   "metadata": {},
   "source": [
    "..."
   ]
  },
  {
   "cell_type": "markdown",
   "id": "4c020723-2af0-482c-b59b-785e2a831269",
   "metadata": {
    "tags": []
   },
   "source": [
    "# Random"
   ]
  },
  {
   "cell_type": "code",
   "execution_count": null,
   "id": "c50bd5f8-773c-451a-9630-3f1b01b299ce",
   "metadata": {},
   "outputs": [],
   "source": [
    "vnp.compute(\n",
    "    vnp.random.beta(0.1,0.2)\n",
    ")[0]"
   ]
  },
  {
   "cell_type": "code",
   "execution_count": null,
   "id": "f47641bc-4f9d-40e3-b7b2-a652dd3541c0",
   "metadata": {},
   "outputs": [],
   "source": [
    "vnp.compute(\n",
    "    vnp.random.binomial(2,0.1)\n",
    ")[0]"
   ]
  },
  {
   "cell_type": "code",
   "execution_count": null,
   "id": "a9e2477d-0a20-4bf7-afb3-a27846ca05cd",
   "metadata": {},
   "outputs": [],
   "source": [
    "vnp.compute(\n",
    "    vnp.random.chisquare(0.1,2)\n",
    ")[0]"
   ]
  },
  {
   "cell_type": "code",
   "execution_count": null,
   "id": "cd754d68-b13e-4a3f-823c-69dcaae88583",
   "metadata": {},
   "outputs": [],
   "source": [
    "vnp.compute(\n",
    "    vnp.random.choice(a,3)\n",
    ")[0]"
   ]
  },
  {
   "cell_type": "code",
   "execution_count": null,
   "id": "e945db1b-869a-4321-9cde-6ca41a110c3f",
   "metadata": {},
   "outputs": [],
   "source": [
    "vnp.compute(\n",
    "    vnp.random.exponential(0.1,3)\n",
    ")[0]"
   ]
  },
  {
   "cell_type": "code",
   "execution_count": null,
   "id": "5568ad24-7bc9-4614-aaf7-5db2839bcbae",
   "metadata": {},
   "outputs": [],
   "source": [
    "vnp.compute(\n",
    "    vnp.random.f(0.1,0.2)\n",
    ")[0]"
   ]
  },
  {
   "cell_type": "markdown",
   "id": "a22ac6b6-ed0b-45d0-a43a-287bf1f180d6",
   "metadata": {},
   "source": [
    "..."
   ]
  },
  {
   "cell_type": "markdown",
   "id": "5993a306-6f2c-40b0-ae7e-17b20b542205",
   "metadata": {},
   "source": [
    "# Files"
   ]
  },
  {
   "cell_type": "markdown",
   "id": "c0147ada-249b-48f9-873e-afcede60e21f",
   "metadata": {},
   "source": [
    "Construct an array from data in a text or binary file."
   ]
  },
  {
   "cell_type": "code",
   "execution_count": null,
   "id": "8a953342-73e4-4c1b-8b32-9cc6a8779bde",
   "metadata": {},
   "outputs": [],
   "source": [
    "import tempfile\n",
    "import shutil\n",
    "from pathlib import Path\n",
    "\n",
    "d = tempfile.mkdtemp()\n",
    "Path(d).mkdir(parents=True, exist_ok=True)\n",
    "\n",
    "try:\n",
    "    vnp.save(f\"{d}/test.npy\", a3d, allow_pickle=False)\n",
    "    l=vnp.load(f\"{d}/test.npy\")\n",
    "    print(vnp.compute(l)[0])\n",
    "finally:\n",
    "    shutil.rmtree(d)"
   ]
  },
  {
   "cell_type": "code",
   "execution_count": null,
   "id": "b6836c9e-09e1-429f-9831-b8410969238c",
   "metadata": {},
   "outputs": [],
   "source": []
  }
 ],
 "metadata": {
  "kernelspec": {
   "display_name": "virtual_dataframe",
   "language": "python",
   "name": "virtual_dataframe"
  },
  "language_info": {
   "codemirror_mode": {
    "name": "ipython",
    "version": 3
   },
   "file_extension": ".py",
   "mimetype": "text/x-python",
   "name": "python",
   "nbconvert_exporter": "python",
   "pygments_lexer": "ipython3",
   "version": "3.9.0"
  }
 },
 "nbformat": 4,
 "nbformat_minor": 5
}
