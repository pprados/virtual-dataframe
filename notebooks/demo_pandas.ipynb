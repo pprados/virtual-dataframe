{
 "cells": [
  {
   "cell_type": "code",
   "execution_count": 1,
   "id": "7888c991",
   "metadata": {
    "tags": []
   },
   "outputs": [],
   "source": [
    "# RESET THE KERNEL if you change this\n",
    "mode = \"cudf\"  # Use pandas, cudf, modin or dask"
   ]
  },
  {
   "cell_type": "markdown",
   "id": "2fb6838c",
   "metadata": {},
   "source": [
    "# Initialisation"
   ]
  },
  {
   "cell_type": "code",
   "execution_count": 2,
   "id": "41550b91",
   "metadata": {
    "tags": []
   },
   "outputs": [
    {
     "ename": "ModuleNotFoundError",
     "evalue": "No module named 'cupy'",
     "output_type": "error",
     "traceback": [
      "\u001b[0;31m---------------------------------------------------------------------------\u001b[0m",
      "\u001b[0;31mModuleNotFoundError\u001b[0m                       Traceback (most recent call last)",
      "Cell \u001b[0;32mIn[2], line 8\u001b[0m\n\u001b[1;32m      5\u001b[0m os\u001b[38;5;241m.\u001b[39menviron[\u001b[38;5;124m\"\u001b[39m\u001b[38;5;124mVDF_MODE\u001b[39m\u001b[38;5;124m\"\u001b[39m] \u001b[38;5;241m=\u001b[39m mode  \u001b[38;5;66;03m# RESET THE KERNEL if you change this\u001b[39;00m\n\u001b[1;32m      6\u001b[0m os\u001b[38;5;241m.\u001b[39menviron[\u001b[38;5;124m\"\u001b[39m\u001b[38;5;124mDASK_SCHEDULER_SERVICE_HOST\u001b[39m\u001b[38;5;124m\"\u001b[39m]\u001b[38;5;241m=\u001b[39m\u001b[38;5;124m\"\u001b[39m\u001b[38;5;124mlocalhost\u001b[39m\u001b[38;5;124m\"\u001b[39m\n\u001b[0;32m----> 8\u001b[0m \u001b[38;5;28;01mimport\u001b[39;00m \u001b[38;5;21;01mvirtual_dataframe\u001b[39;00m \u001b[38;5;28;01mas\u001b[39;00m \u001b[38;5;21;01mvdf\u001b[39;00m\n\u001b[1;32m      9\u001b[0m \u001b[38;5;28;01mfrom\u001b[39;00m \u001b[38;5;21;01mvirtual_dataframe\u001b[39;00m \u001b[38;5;28;01mimport\u001b[39;00m VDF_MODE, VClient\n\u001b[1;32m     10\u001b[0m \u001b[38;5;28;01mimport\u001b[39;00m \u001b[38;5;21;01mpandas\u001b[39;00m \u001b[38;5;28;01mas\u001b[39;00m \u001b[38;5;21;01mpd\u001b[39;00m\n",
      "File \u001b[0;32m~/workspace.bda/virtual_dataframe/virtual_dataframe/__init__.py:13\u001b[0m\n\u001b[1;32m     11\u001b[0m \u001b[38;5;28;01mfrom\u001b[39;00m \u001b[38;5;21;01mvirtual_dataframe\u001b[39;00m\u001b[38;5;21;01m.\u001b[39;00m\u001b[38;5;21;01mvclient\u001b[39;00m \u001b[38;5;28;01mimport\u001b[39;00m VClient\n\u001b[1;32m     12\u001b[0m \u001b[38;5;28;01mfrom\u001b[39;00m \u001b[38;5;21;01mvirtual_dataframe\u001b[39;00m\u001b[38;5;21;01m.\u001b[39;00m\u001b[38;5;21;01mvlocalcluster\u001b[39;00m \u001b[38;5;28;01mimport\u001b[39;00m VLocalCluster\n\u001b[0;32m---> 13\u001b[0m \u001b[38;5;28;01mfrom\u001b[39;00m \u001b[38;5;21;01mvirtual_dataframe\u001b[39;00m\u001b[38;5;21;01m.\u001b[39;00m\u001b[38;5;21;01mvpandas\u001b[39;00m \u001b[38;5;28;01mimport\u001b[39;00m BackEndDataFrame, BackEndSeries, BackEndNumpy, BackEndPandas\n\u001b[1;32m     14\u001b[0m \u001b[38;5;28;01mfrom\u001b[39;00m \u001b[38;5;21;01mvirtual_dataframe\u001b[39;00m\u001b[38;5;21;01m.\u001b[39;00m\u001b[38;5;21;01mvpandas\u001b[39;00m \u001b[38;5;28;01mimport\u001b[39;00m FrontEndPandas, FrontEndNumpy\n\u001b[1;32m     15\u001b[0m \u001b[38;5;28;01mfrom\u001b[39;00m \u001b[38;5;21;01mvirtual_dataframe\u001b[39;00m\u001b[38;5;21;01m.\u001b[39;00m\u001b[38;5;21;01mvpandas\u001b[39;00m \u001b[38;5;28;01mimport\u001b[39;00m VDataFrame, VSeries\n",
      "File \u001b[0;32m~/workspace.bda/virtual_dataframe/virtual_dataframe/vpandas.py:555\u001b[0m\n\u001b[1;32m    553\u001b[0m \u001b[38;5;66;03m# %% cudf\u001b[39;00m\n\u001b[1;32m    554\u001b[0m \u001b[38;5;28;01mif\u001b[39;00m VDF_MODE \u001b[38;5;129;01min\u001b[39;00m (Mode\u001b[38;5;241m.\u001b[39mcudf, Mode\u001b[38;5;241m.\u001b[39mcupy):\n\u001b[0;32m--> 555\u001b[0m     \u001b[38;5;28;01mimport\u001b[39;00m \u001b[38;5;21;01mvirtual_dataframe\u001b[39;00m\u001b[38;5;21;01m.\u001b[39;00m\u001b[38;5;21;01mnumpy\u001b[39;00m \u001b[38;5;28;01mas\u001b[39;00m \u001b[38;5;21;01malias_numpy\u001b[39;00m\n\u001b[1;32m    556\u001b[0m     \u001b[38;5;28;01mimport\u001b[39;00m \u001b[38;5;21;01mcudf\u001b[39;00m\n\u001b[1;32m    557\u001b[0m     \u001b[38;5;28;01mimport\u001b[39;00m \u001b[38;5;21;01mpandas\u001b[39;00m\n",
      "File \u001b[0;32m~/workspace.bda/virtual_dataframe/virtual_dataframe/numpy/__init__.py:48\u001b[0m\n\u001b[1;32m     45\u001b[0m     FrontEndNumpy\u001b[38;5;241m.\u001b[39mrandom\u001b[38;5;241m.\u001b[39mpoisson \u001b[38;5;241m=\u001b[39m _remove_args(FrontEndNumpy\u001b[38;5;241m.\u001b[39mrandom\u001b[38;5;241m.\u001b[39mpoisson, [\u001b[38;5;124m\"\u001b[39m\u001b[38;5;124mchunks\u001b[39m\u001b[38;5;124m\"\u001b[39m])\n\u001b[1;32m     47\u001b[0m \u001b[38;5;28;01melif\u001b[39;00m VDF_MODE \u001b[38;5;129;01min\u001b[39;00m (Mode\u001b[38;5;241m.\u001b[39mcudf, Mode\u001b[38;5;241m.\u001b[39mcupy):\n\u001b[0;32m---> 48\u001b[0m     \u001b[38;5;28;01mimport\u001b[39;00m \u001b[38;5;21;01mcupy\u001b[39;00m\n\u001b[1;32m     50\u001b[0m     FrontEndNumpy \u001b[38;5;241m=\u001b[39m cupy\n\u001b[1;32m     52\u001b[0m     sys\u001b[38;5;241m.\u001b[39mmodules[\u001b[38;5;18m__name__\u001b[39m] \u001b[38;5;241m=\u001b[39m FrontEndNumpy  \u001b[38;5;66;03m# Hack to replace this current module to another\u001b[39;00m\n",
      "\u001b[0;31mModuleNotFoundError\u001b[0m: No module named 'cupy'"
     ]
    }
   ],
   "source": [
    "%reload_ext autoreload\n",
    "%autoreload 2\n",
    "import os\n",
    "# Select the mode in `pandas`, `cudf`, `dask` or `dask-cudf`.\n",
    "os.environ[\"VDF_MODE\"] = mode  # RESET THE KERNEL if you change this\n",
    "os.environ[\"DASK_SCHEDULER_SERVICE_HOST\"]=\"localhost\"\n",
    "\n",
    "import virtual_dataframe as vdf\n",
    "from virtual_dataframe import VDF_MODE, VClient\n",
    "import pandas as pd\n",
    "import numpy as np\n",
    "\n",
    "print(f\"Use {VDF_MODE.name.upper()}\")"
   ]
  },
  {
   "cell_type": "code",
   "execution_count": null,
   "id": "4bbadb46",
   "metadata": {
    "collapsed": false,
    "jupyter": {
     "outputs_hidden": false
    },
    "tags": []
   },
   "outputs": [],
   "source": [
    "client = VClient()\n",
    "client"
   ]
  },
  {
   "cell_type": "markdown",
   "id": "bf2d1da8",
   "metadata": {},
   "source": [
    "# Object Creation"
   ]
  },
  {
   "cell_type": "markdown",
   "id": "3dc01406",
   "metadata": {},
   "source": [
    "Creating a `VSeries`"
   ]
  },
  {
   "cell_type": "code",
   "execution_count": null,
   "id": "debbe18d",
   "metadata": {
    "collapsed": false,
    "jupyter": {
     "outputs_hidden": false
    },
    "tags": []
   },
   "outputs": [],
   "source": [
    "s = vdf.VSeries([1,2,3,None,4],npartitions=2)\n",
    "s.compute()"
   ]
  },
  {
   "cell_type": "markdown",
   "id": "594490e3",
   "metadata": {},
   "source": [
    "Creating a `VDataFrame` by specifying values for each column."
   ]
  },
  {
   "cell_type": "code",
   "execution_count": null,
   "id": "cf398670",
   "metadata": {
    "collapsed": false,
    "jupyter": {
     "outputs_hidden": false
    },
    "tags": []
   },
   "outputs": [],
   "source": [
    "df = vdf.VDataFrame({'a': list(range(20)),\n",
    "                 'b': list(reversed(range(20))),\n",
    "                 'c': list(range(20))\n",
    "                }, npartitions=2)\n",
    "df.compute()"
   ]
  },
  {
   "cell_type": "markdown",
   "id": "2c0a81c4",
   "metadata": {},
   "source": [
    "Creating a `VDataFrame` from a pandas `Dataframe`.\n",
    "\n",
    "> Note that best practice for `VDataFrame` is to read data directly into a ̀`VDataFrame` with something like `read_csv()` (discussed below)."
   ]
  },
  {
   "cell_type": "code",
   "execution_count": null,
   "id": "554c2df3",
   "metadata": {
    "collapsed": false,
    "jupyter": {
     "outputs_hidden": false
    },
    "tags": []
   },
   "outputs": [],
   "source": [
    "pdf = pd.DataFrame({'a': [0, 1, 2, 3],'b': [0.1, 0.2, 0.3, 0.4]})\n",
    "vdf.from_pandas(pdf, npartitions=2).compute()"
   ]
  },
  {
   "cell_type": "code",
   "execution_count": null,
   "id": "12ecfe48",
   "metadata": {
    "collapsed": false,
    "jupyter": {
     "outputs_hidden": false
    },
    "tags": []
   },
   "outputs": [],
   "source": [
    "ps = pd.Series([1,2,3,None,4])\n",
    "vdf.from_pandas(ps, npartitions=2).compute()"
   ]
  },
  {
   "cell_type": "markdown",
   "id": "19f6c927",
   "metadata": {},
   "source": [
    "# Viewing Data"
   ]
  },
  {
   "cell_type": "markdown",
   "id": "7d4bdde5",
   "metadata": {},
   "source": [
    "Viewing the top rows of a `VDataFrame`."
   ]
  },
  {
   "cell_type": "code",
   "execution_count": null,
   "id": "eb7dd677",
   "metadata": {
    "collapsed": false,
    "jupyter": {
     "outputs_hidden": false
    },
    "tags": []
   },
   "outputs": [],
   "source": [
    "df.head(2)"
   ]
  },
  {
   "cell_type": "code",
   "execution_count": null,
   "id": "d84df667",
   "metadata": {
    "collapsed": false,
    "jupyter": {
     "outputs_hidden": false
    },
    "tags": []
   },
   "outputs": [],
   "source": [
    "df.sort_values(by='b').compute()"
   ]
  },
  {
   "cell_type": "markdown",
   "id": "dc96b691",
   "metadata": {},
   "source": [
    "# Selection"
   ]
  },
  {
   "cell_type": "markdown",
   "id": "99f2701c",
   "metadata": {},
   "source": [
    "## Getting\n",
    "Selecting a single column, which initially yields a `VSeries`."
   ]
  },
  {
   "cell_type": "code",
   "execution_count": null,
   "id": "1d64cacb",
   "metadata": {
    "collapsed": false,
    "jupyter": {
     "outputs_hidden": false
    },
    "tags": []
   },
   "outputs": [],
   "source": [
    "df['a'].compute()"
   ]
  },
  {
   "cell_type": "markdown",
   "id": "c37a1926",
   "metadata": {},
   "source": [
    "## Selection by Label\n",
    "Selecting rows from index 2 to index 5 from columns ‘a’ and ‘b’."
   ]
  },
  {
   "cell_type": "code",
   "execution_count": null,
   "id": "79f481bf",
   "metadata": {
    "collapsed": false,
    "jupyter": {
     "outputs_hidden": false
    },
    "tags": []
   },
   "outputs": [],
   "source": [
    "df.loc[2:5, ['a', 'b']]"
   ]
  },
  {
   "cell_type": "code",
   "execution_count": null,
   "id": "9b1e898d",
   "metadata": {
    "collapsed": false,
    "jupyter": {
     "outputs_hidden": false
    },
    "tags": []
   },
   "outputs": [],
   "source": [
    "df.loc[2:5, ['a', 'b']].compute()"
   ]
  },
  {
   "cell_type": "markdown",
   "id": "d97bd0a0",
   "metadata": {},
   "source": [
    "## Selection by Position\n",
    "Selecting via integers and integer slices, like numpy/pandas.\n",
    "> Note that this functionality is not available for `dask-cudf`."
   ]
  },
  {
   "cell_type": "code",
   "execution_count": null,
   "id": "1bf2beb7",
   "metadata": {
    "collapsed": false,
    "jupyter": {
     "outputs_hidden": false
    },
    "tags": []
   },
   "outputs": [],
   "source": [
    "df.iloc[:,0:len(df.columns)].compute()"
   ]
  },
  {
   "cell_type": "code",
   "execution_count": null,
   "id": "a91c5208",
   "metadata": {
    "collapsed": false,
    "jupyter": {
     "outputs_hidden": false
    },
    "tags": []
   },
   "outputs": [],
   "source": [
    "s[3:5].compute()"
   ]
  },
  {
   "cell_type": "markdown",
   "id": "3340cf26",
   "metadata": {},
   "source": [
    "## Boolean Indexing\n",
    "Selecting rows in a `VDataFrame` or `VSeries` by direct `Boolean` indexing."
   ]
  },
  {
   "cell_type": "code",
   "execution_count": null,
   "id": "23ee24ce",
   "metadata": {
    "collapsed": false,
    "jupyter": {
     "outputs_hidden": false
    },
    "tags": []
   },
   "outputs": [],
   "source": [
    "df[df.b > 15].compute()"
   ]
  },
  {
   "cell_type": "markdown",
   "id": "dd6c4680",
   "metadata": {},
   "source": [
    "Selecting values from a `DataFrame` where a `Boolean` condition is met, via the query API."
   ]
  },
  {
   "cell_type": "markdown",
   "id": "9a080d63",
   "metadata": {},
   "source": [
    "You can pass local variables to queries, via the `local_dict` keyword.\n",
    "Supported logical operators include >, <, >=, <=, ==, and !=."
   ]
  },
  {
   "cell_type": "code",
   "execution_count": null,
   "id": "be167c30",
   "metadata": {
    "collapsed": false,
    "jupyter": {
     "outputs_hidden": false
    },
    "tags": []
   },
   "outputs": [],
   "source": [
    "value = 3\n",
    "df.query(\"b == @value\",local_dict={'value':value}).compute()"
   ]
  },
  {
   "cell_type": "code",
   "execution_count": null,
   "id": "e1828ae0",
   "metadata": {
    "collapsed": false,
    "jupyter": {
     "outputs_hidden": false
    },
    "tags": []
   },
   "outputs": [],
   "source": [
    "value = 3\n",
    "df.query(\"b == @val\", local_dict={'val':value}).compute()"
   ]
  },
  {
   "cell_type": "markdown",
   "id": "1eb16258",
   "metadata": {},
   "source": [
    "Using the isin method for filtering."
   ]
  },
  {
   "cell_type": "code",
   "execution_count": null,
   "id": "291d7680",
   "metadata": {
    "collapsed": false,
    "jupyter": {
     "outputs_hidden": false
    },
    "tags": []
   },
   "outputs": [],
   "source": [
    "df[df.a.isin([0, 5])].compute()"
   ]
  },
  {
   "cell_type": "markdown",
   "id": "fa1faa11",
   "metadata": {},
   "source": [
    "# Missing Data"
   ]
  },
  {
   "cell_type": "markdown",
   "id": "ea964a0a",
   "metadata": {},
   "source": [
    "Missing data can be replaced by using the fillna method."
   ]
  },
  {
   "cell_type": "code",
   "execution_count": null,
   "id": "b3655733",
   "metadata": {
    "collapsed": false,
    "jupyter": {
     "outputs_hidden": false
    },
    "tags": []
   },
   "outputs": [],
   "source": [
    "s.fillna(999).compute()"
   ]
  },
  {
   "cell_type": "markdown",
   "id": "ff12332b",
   "metadata": {},
   "source": [
    "# Operations"
   ]
  },
  {
   "cell_type": "markdown",
   "id": "c0c050b8",
   "metadata": {},
   "source": [
    "## Stats\n",
    "Calculating descriptive statistics for a Series."
   ]
  },
  {
   "cell_type": "code",
   "execution_count": null,
   "id": "ea414571",
   "metadata": {
    "collapsed": false,
    "jupyter": {
     "outputs_hidden": false
    },
    "tags": []
   },
   "outputs": [],
   "source": [
    "vdf.compute(s.mean())[0], vdf.compute(s.var())[0]"
   ]
  },
  {
   "cell_type": "markdown",
   "id": "fe3be6c4",
   "metadata": {},
   "source": [
    "## Apply"
   ]
  },
  {
   "cell_type": "markdown",
   "id": "886d083d",
   "metadata": {},
   "source": [
    "Applying functions to a Series.\n",
    "Note that applying user defined functions directly with Dask-cuDF is not yet implemented.\n",
    "For now, you can use map_partitions to apply a function to each partition of the distributed dataframe."
   ]
  },
  {
   "cell_type": "code",
   "execution_count": null,
   "id": "18dd2e50",
   "metadata": {
    "collapsed": false,
    "jupyter": {
     "outputs_hidden": false
    },
    "tags": []
   },
   "outputs": [],
   "source": [
    "def add_ten(num:np.int64):\n",
    "    return num + 10\n",
    "\n",
    "df['a'].apply(add_ten).compute()"
   ]
  },
  {
   "cell_type": "code",
   "execution_count": null,
   "id": "5ab02a62-e75d-4686-817f-92b01399e7b2",
   "metadata": {
    "tags": []
   },
   "outputs": [],
   "source": [
    "df.compute()"
   ]
  },
  {
   "cell_type": "code",
   "execution_count": null,
   "id": "1fc7c39f",
   "metadata": {
    "collapsed": false,
    "jupyter": {
     "outputs_hidden": false
    },
    "tags": []
   },
   "outputs": [],
   "source": [
    "df['a'].map_partitions(add_ten).compute()"
   ]
  },
  {
   "cell_type": "code",
   "execution_count": null,
   "id": "8a7cfd8d-83c8-4a7c-948d-674d2a8aca78",
   "metadata": {
    "tags": []
   },
   "outputs": [],
   "source": [
    "df.applymap(lambda x: x*2).compute()"
   ]
  },
  {
   "cell_type": "code",
   "execution_count": null,
   "id": "ec60e062",
   "metadata": {
    "collapsed": false,
    "jupyter": {
     "outputs_hidden": false
    },
    "tags": []
   },
   "outputs": [],
   "source": [
    "def my_kernel(a_s, b_s, c_s, val, outs):\n",
    "    for i, (a, b, c) in enumerate(zip(a_s,b_s,c_s)):\n",
    "        outs[i] = (a + b + c ) * val\n",
    "\n",
    "df.apply_rows(\n",
    "    my_kernel,\n",
    "    incols={'a':'a_s','b':'b_s','c':'c_s'},\n",
    "    outcols={'outs': np.float64},\n",
    "    kwargs={\"val\":3.0}\n",
    ").compute()"
   ]
  },
  {
   "cell_type": "markdown",
   "id": "547eac17",
   "metadata": {},
   "source": [
    "## Histogramming"
   ]
  },
  {
   "cell_type": "markdown",
   "id": "bd143f16",
   "metadata": {},
   "source": [
    "Counting the number of occurrences of each unique value of variable."
   ]
  },
  {
   "cell_type": "code",
   "execution_count": null,
   "id": "b6b741d3",
   "metadata": {
    "collapsed": false,
    "jupyter": {
     "outputs_hidden": false
    },
    "tags": []
   },
   "outputs": [],
   "source": [
    "df.a.value_counts().compute()"
   ]
  },
  {
   "cell_type": "markdown",
   "id": "c78a1c03",
   "metadata": {},
   "source": [
    "## String Methods"
   ]
  },
  {
   "cell_type": "markdown",
   "id": "93de9392",
   "metadata": {},
   "source": [
    "Virtual Dataframe provides string processing methods in the str attribute of Series."
   ]
  },
  {
   "cell_type": "code",
   "execution_count": null,
   "id": "71c21fd6",
   "metadata": {
    "collapsed": false,
    "jupyter": {
     "outputs_hidden": false
    },
    "tags": []
   },
   "outputs": [],
   "source": [
    "s = vdf.VSeries(['A', 'B', 'C', 'Aaba', 'Baca', None, 'CABA', 'dog', 'cat'], npartitions=2)\n",
    "s.str.lower().compute()"
   ]
  },
  {
   "cell_type": "markdown",
   "id": "e523f0f4",
   "metadata": {},
   "source": [
    "# Concat"
   ]
  },
  {
   "cell_type": "markdown",
   "id": "169d65fb",
   "metadata": {},
   "source": [
    "Concatenating VSeries and VDataFrames row-wise."
   ]
  },
  {
   "cell_type": "code",
   "execution_count": null,
   "id": "3e23cc5e",
   "metadata": {
    "collapsed": false,
    "jupyter": {
     "outputs_hidden": false
    },
    "tags": []
   },
   "outputs": [],
   "source": [
    "s = vdf.VSeries([1, 2, 3, None, 5],npartitions=2)\n",
    "vdf.concat([s, s]).compute()"
   ]
  },
  {
   "cell_type": "markdown",
   "id": "46ca5b96",
   "metadata": {},
   "source": [
    "# Join"
   ]
  },
  {
   "cell_type": "markdown",
   "id": "b0171ee7",
   "metadata": {},
   "source": [
    "Performing SQL style merges.\n",
    "Note that the dataframe order is not maintained, but may be restored post-merge by sorting by the index."
   ]
  },
  {
   "cell_type": "code",
   "execution_count": null,
   "id": "abeb364a",
   "metadata": {
    "collapsed": false,
    "jupyter": {
     "outputs_hidden": false
    },
    "tags": []
   },
   "outputs": [],
   "source": [
    "df_a = vdf.VDataFrame({\"key\":['a', 'b', 'c', 'd', 'e'], \"vals_a\":[float(i + 10) for i in range(5)]})\n",
    "\n",
    "df_b = vdf.VDataFrame({\"key\":['a', 'c', 'e'],\"vals_b\":[float(i+100) for i in range(3)]})\n",
    "\n",
    "merged = df_a.merge(df_b, on=['key'], how='left')\n",
    "merged.compute()"
   ]
  },
  {
   "cell_type": "markdown",
   "id": "77693938",
   "metadata": {},
   "source": [
    "# Grouping"
   ]
  },
  {
   "cell_type": "markdown",
   "id": "8f880090",
   "metadata": {},
   "source": [
    "Virtual Dataframe support the Split-Apply-Combine groupby paradigm."
   ]
  },
  {
   "cell_type": "code",
   "execution_count": null,
   "id": "c4dff02d",
   "metadata": {
    "collapsed": false,
    "jupyter": {
     "outputs_hidden": false
    },
    "tags": []
   },
   "outputs": [],
   "source": [
    "df = vdf.VDataFrame({'a': list(range(20)),\n",
    "                     'b': list(reversed(range(20))),\n",
    "                     'c': list(range(20))\n",
    "                    })\n",
    "\n",
    "df['agg_col1'] = pd.Series([1 if x % 2 == 0 else 0 for x in range(len(df))])\n",
    "df['agg_col2'] = pd.Series([1 if x % 3 == 0 else 0 for x in range(len(df))])"
   ]
  },
  {
   "cell_type": "code",
   "execution_count": null,
   "id": "1c5e7bb5",
   "metadata": {
    "collapsed": false,
    "jupyter": {
     "outputs_hidden": false
    },
    "tags": []
   },
   "outputs": [],
   "source": [
    "ddf = vdf.from_backend(df.compute(), npartitions=2)\n",
    "ddf.compute()"
   ]
  },
  {
   "cell_type": "markdown",
   "id": "b93f8e3d",
   "metadata": {},
   "source": [
    "Grouping and then applying the sum function to the grouped data."
   ]
  },
  {
   "cell_type": "code",
   "execution_count": null,
   "id": "66d67707",
   "metadata": {
    "collapsed": false,
    "jupyter": {
     "outputs_hidden": false
    },
    "tags": []
   },
   "outputs": [],
   "source": [
    "df.groupby('agg_col1').sum().compute()"
   ]
  },
  {
   "cell_type": "markdown",
   "id": "3e31a47f",
   "metadata": {},
   "source": [
    "Grouping hierarchically then applying the sum function to grouped data."
   ]
  },
  {
   "cell_type": "code",
   "execution_count": null,
   "id": "52022665",
   "metadata": {
    "collapsed": false,
    "jupyter": {
     "outputs_hidden": false
    },
    "tags": []
   },
   "outputs": [],
   "source": [
    "df.groupby(['agg_col1', 'agg_col2']).sum().compute()"
   ]
  },
  {
   "cell_type": "markdown",
   "id": "92a61f25",
   "metadata": {},
   "source": [
    "Grouping and applying statistical functions to specific columns, using agg."
   ]
  },
  {
   "cell_type": "code",
   "execution_count": null,
   "id": "4e32aa44",
   "metadata": {
    "collapsed": false,
    "jupyter": {
     "outputs_hidden": false
    },
    "tags": []
   },
   "outputs": [],
   "source": [
    "df.groupby('agg_col1').agg({'a':'max', 'b':'mean', 'c':'sum'}).compute()"
   ]
  },
  {
   "cell_type": "markdown",
   "id": "f62c590b",
   "metadata": {},
   "source": [
    "# Categoricals"
   ]
  },
  {
   "cell_type": "markdown",
   "id": "e8b27421",
   "metadata": {},
   "source": [
    "`VDataFrames` support categorical columns."
   ]
  },
  {
   "cell_type": "code",
   "execution_count": null,
   "id": "cdb1c05b",
   "metadata": {
    "collapsed": false,
    "jupyter": {
     "outputs_hidden": false
    },
    "tags": []
   },
   "outputs": [],
   "source": [
    "import virtual_dataframe as vdf\n",
    "# String Arrays is not yet implemented in dask_cudf\n",
    "#gdf = vdf.VDataFrame({\"id\": [1, 2, 3, 4, 5, 6], \"grade\":['a', 'b', 'b', 'a', 'a', 'e']}, npartitions=2)\n",
    "gdf = vdf.VDataFrame({\"id\": [1, 2, 3, 4, 5, 6], \"grade\":[101, 102, 103, 104, 105, 106]}, npartitions=2)\n",
    "gdf['grade'] = gdf['grade'].astype('category')\n",
    "if vdf.VDF_MODE in (vdf.Mode.dask,vdf.Mode.dask_cudf):\n",
    "    gdf['grade'] = gdf.grade.cat.as_known()\n",
    "gdf.dtypes"
   ]
  },
  {
   "cell_type": "markdown",
   "id": "dfe56258",
   "metadata": {},
   "source": [
    "Accessing the categories of a column.\n",
    "\n",
    "> Note that this is currently not supported in `dask-cudf`."
   ]
  },
  {
   "cell_type": "markdown",
   "id": "0c457f46",
   "metadata": {},
   "source": [
    "Accessing the underlying code values of each categorical observation."
   ]
  },
  {
   "cell_type": "code",
   "execution_count": null,
   "id": "620b9604",
   "metadata": {
    "collapsed": false,
    "jupyter": {
     "outputs_hidden": false
    },
    "tags": []
   },
   "outputs": [],
   "source": [
    "gdf.categorize().compute()"
   ]
  },
  {
   "cell_type": "code",
   "execution_count": null,
   "id": "4adfe58a",
   "metadata": {
    "collapsed": false,
    "jupyter": {
     "outputs_hidden": false
    },
    "tags": []
   },
   "outputs": [],
   "source": [
    "gdf.grade.cat.codes.compute()"
   ]
  },
  {
   "cell_type": "markdown",
   "id": "bedf0e9e",
   "metadata": {},
   "source": [
    "# Converting Data Representation"
   ]
  },
  {
   "cell_type": "markdown",
   "id": "d47843b3",
   "metadata": {},
   "source": [
    "## Pandas\n",
    "Converting a `VDataFrame` to a pandas DataFrame."
   ]
  },
  {
   "cell_type": "code",
   "execution_count": null,
   "id": "9be55f46",
   "metadata": {
    "collapsed": false,
    "jupyter": {
     "outputs_hidden": false
    },
    "tags": []
   },
   "outputs": [],
   "source": [
    "df.head().to_pandas()"
   ]
  },
  {
   "cell_type": "markdown",
   "id": "f61f4d52",
   "metadata": {},
   "source": [
    "## Numpy\n",
    "Converting a `VDataFrame` to a numpy ndarray."
   ]
  },
  {
   "cell_type": "code",
   "execution_count": null,
   "id": "e80fe5d6",
   "metadata": {
    "collapsed": false,
    "jupyter": {
     "outputs_hidden": false
    },
    "tags": []
   },
   "outputs": [],
   "source": [
    "df.to_numpy()"
   ]
  },
  {
   "cell_type": "markdown",
   "id": "0937c13a",
   "metadata": {},
   "source": [
    "Converting a `VSeries` to a numpy ndarray."
   ]
  },
  {
   "cell_type": "code",
   "execution_count": null,
   "id": "98d2cc22",
   "metadata": {
    "collapsed": false,
    "jupyter": {
     "outputs_hidden": false
    },
    "tags": []
   },
   "outputs": [],
   "source": [
    "df['a'].to_numpy()"
   ]
  },
  {
   "cell_type": "markdown",
   "id": "9d527597",
   "metadata": {},
   "source": [
    "# Delayed"
   ]
  },
  {
   "cell_type": "code",
   "execution_count": null,
   "id": "7071e17d",
   "metadata": {
    "collapsed": false,
    "jupyter": {
     "outputs_hidden": false
    },
    "tags": []
   },
   "outputs": [],
   "source": [
    "TestDF = vdf.VDataFrame\n",
    "\n",
    "@vdf.delayed\n",
    "def add_one(data: TestDF) -> TestDF:\n",
    "    return data + 1\n",
    "\n",
    "\n",
    "add_one(df).compute()"
   ]
  },
  {
   "cell_type": "markdown",
   "id": "0bb6a61e",
   "metadata": {},
   "source": [
    "# Getting Data In/Out"
   ]
  },
  {
   "cell_type": "markdown",
   "id": "67b04a40",
   "metadata": {},
   "source": [
    "## CSV"
   ]
  },
  {
   "cell_type": "markdown",
   "id": "55ce273c-a9aa-4d2f-ab03-33c780b5a386",
   "metadata": {},
   "source": [
    "Writing and reading to a CSV file."
   ]
  },
  {
   "cell_type": "code",
   "execution_count": null,
   "id": "946c0331",
   "metadata": {
    "collapsed": false,
    "jupyter": {
     "outputs_hidden": false
    },
    "tags": []
   },
   "outputs": [],
   "source": [
    "import tempfile\n",
    "import shutil\n",
    "from pathlib import Path\n",
    "\n",
    "d = tempfile.mkdtemp()\n",
    "Path(d).mkdir(parents=True, exist_ok=True)\n",
    "\n",
    "try:\n",
    "    df.to_csv(f\"{d}/test*.csv\")\n",
    "    df = vdf.read_csv(f\"{d}/test*.csv\")\n",
    "    print (df.compute())\n",
    "finally:\n",
    "    shutil.rmtree(d)"
   ]
  },
  {
   "cell_type": "markdown",
   "id": "1699557c",
   "metadata": {},
   "source": [
    "Reading all CSV files in a directory into a single dask_cudf.DataFrame, using the star wildcard.\n",
    "> Not implemented in pandas or cudf ?"
   ]
  },
  {
   "cell_type": "code",
   "execution_count": null,
   "id": "7dfcac33",
   "metadata": {
    "collapsed": false,
    "jupyter": {
     "outputs_hidden": false
    },
    "tags": []
   },
   "outputs": [],
   "source": [
    "import tempfile\n",
    "import shutil\n",
    "from pathlib import Path\n",
    "\n",
    "\n",
    "d = tempfile.mkdtemp()\n",
    "Path(d).mkdir(parents=True, exist_ok=True)\n",
    "\n",
    "try:\n",
    "    df.to_parquet(f\"{d}/test.parquet\")\n",
    "    df = vdf.read_parquet(f\"{d}/test.parquet\")\n",
    "    print (df.compute())\n",
    "finally:\n",
    "    shutil.rmtree(d)"
   ]
  },
  {
   "cell_type": "code",
   "execution_count": null,
   "id": "5b8116df-0fb6-4396-aedf-5b789c9578b4",
   "metadata": {},
   "outputs": [],
   "source": []
  }
 ],
 "metadata": {
  "kernelspec": {
   "display_name": "virtual_dataframe",
   "language": "python",
   "name": "virtual_dataframe"
  },
  "language_info": {
   "codemirror_mode": {
    "name": "ipython",
    "version": 3
   },
   "file_extension": ".py",
   "mimetype": "text/x-python",
   "name": "python",
   "nbconvert_exporter": "python",
   "pygments_lexer": "ipython3",
   "version": "3.9.0"
  }
 },
 "nbformat": 4,
 "nbformat_minor": 5
}
